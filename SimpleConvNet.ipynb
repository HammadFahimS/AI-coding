{
  "nbformat": 4,
  "nbformat_minor": 0,
  "metadata": {
    "colab": {
      "provenance": []
    },
    "kernelspec": {
      "name": "python3",
      "display_name": "Python 3"
    },
    "language_info": {
      "name": "python"
    }
  },
  "cells": [
    {
      "cell_type": "code",
      "execution_count": 1,
      "metadata": {
        "id": "xKxpo6PmZt7s"
      },
      "outputs": [],
      "source": [
        "import torch\n",
        "import torch.nn as nn\n",
        "\n",
        "# Define a simple convolutional layer in PyTorch\n",
        "class SimpleConvNet(nn.Module):\n",
        "    def __init__(self):\n",
        "        super(SimpleConvNet, self).__init__()\n",
        "        # Define a convolutional layer\n",
        "        # nn.Conv2d parameters:\n",
        "        # in_channels (int): Number of channels in the input image\n",
        "        # out_channels (int): Number of channels produced by the convolution\n",
        "        # kernel_size (int or tuple): Size of the convolving kernel\n",
        "        # stride (int or tuple, optional): Stride of the convolution. Default: 1\n",
        "        # padding (int or tuple, optional): Zero-padding added to both sides of the input. Default: 0\n",
        "        self.conv1 = nn.Conv2d(in_channels=1, out_channels=3, kernel_size=3, stride=1, padding=1)\n",
        "\n",
        "    def forward(self, x):\n",
        "        # Apply the convolutional layer to the input\n",
        "        x = self.conv1(x)\n",
        "        return x\n",
        "\n",
        "def test_conv():\n",
        "\n",
        "    # Example usage of the SimpleConvNet\n",
        "    # Create an instance of the SimpleConvNet\n",
        "    net = SimpleConvNet()\n",
        "\n",
        "    # Create a dummy input tensor\n",
        "    # For example, a single-channel image (e.g., grayscale) of size 64x64\n",
        "    input_tensor = torch.randn(1, 1, 64, 64)  # Shape: [batch_size, channels, height, width]\n",
        "\n",
        "    # Forward pass through the convolutional layer\n",
        "    output_tensor = net(input_tensor)\n",
        "\n",
        "    print(\"Input shape:\", input_tensor.shape)\n",
        "    print(\"Output shape:\", output_tensor.shape)\n",
        "    # The output shape will have 3 channels (as defined in out_channels of conv1),\n",
        "    # and the spatial dimensions will remain the same (64x64) due to padding=1 and kernel_size=3."
      ]
    },
    {
      "cell_type": "code",
      "source": [
        "test_conv()"
      ],
      "metadata": {
        "colab": {
          "base_uri": "https://localhost:8080/"
        },
        "id": "mYF0VOPBZvmv",
        "outputId": "2d9268f5-9f6b-46ea-81ab-9963c35f35c4"
      },
      "execution_count": 2,
      "outputs": [
        {
          "output_type": "stream",
          "name": "stdout",
          "text": [
            "Input shape: torch.Size([1, 1, 64, 64])\n",
            "Output shape: torch.Size([1, 3, 64, 64])\n"
          ]
        }
      ]
    },
    {
      "cell_type": "code",
      "source": [],
      "metadata": {
        "id": "JJEq0MvZZ6qJ"
      },
      "execution_count": null,
      "outputs": []
    }
  ]
}